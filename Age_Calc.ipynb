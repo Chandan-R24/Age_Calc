{
 "cells": [
  {
   "cell_type": "code",
   "execution_count": 2,
   "id": "d3e768ef-4131-4887-9df8-3f105eb69b8b",
   "metadata": {},
   "outputs": [],
   "source": [
    "from datetime import datetime"
   ]
  },
  {
   "cell_type": "code",
   "execution_count": 9,
   "id": "1cb707f3-93af-4610-bb29-3a7076a50366",
   "metadata": {},
   "outputs": [
    {
     "name": "stdin",
     "output_type": "stream",
     "text": [
      "Enter your Birthdate (DD-MM-YYYY): 01-01-2000\n"
     ]
    },
    {
     "name": "stdout",
     "output_type": "stream",
     "text": [
      "You are 25years.6months,18days old\n"
     ]
    }
   ],
   "source": [
    "def calc_age(birtdate_input):\n",
    "    birthdate=datetime.strptime(birthdate_input,'%d-%m-%Y')\n",
    "    today= datetime.today()\n",
    "\n",
    "    age_years=today.year-birthdate.year\n",
    "    age_months=today.month-birthdate.month\n",
    "    age_days=today.day-birthdate.day\n",
    "\n",
    "    if age_days<0:\n",
    "        age_months-=1\n",
    "        age_days+=(datetime(today.year,today.month,1)-datetime(today.year,today.month-1,1)).days\n",
    "    if age_months<0:\n",
    "        age_months += 12\n",
    "        age_years -=1 \n",
    "\n",
    "    return age_years,age_months,age_days\n",
    "\n",
    "birthdate_input=input('Enter your Birthdate (DD-MM-YYYY):')\n",
    "years,months,days = calc_age(birthdate_input)\n",
    "print(f\"You are {years}years.{months}months,{days}days old\")"
   ]
  },
  {
   "cell_type": "code",
   "execution_count": null,
   "id": "fa9eff1c-6e9f-4b30-9e77-6cf1ca941568",
   "metadata": {},
   "outputs": [],
   "source": []
  }
 ],
 "metadata": {
  "kernelspec": {
   "display_name": "Python 3 (ipykernel)",
   "language": "python",
   "name": "python3"
  },
  "language_info": {
   "codemirror_mode": {
    "name": "ipython",
    "version": 3
   },
   "file_extension": ".py",
   "mimetype": "text/x-python",
   "name": "python",
   "nbconvert_exporter": "python",
   "pygments_lexer": "ipython3",
   "version": "3.12.4"
  }
 },
 "nbformat": 4,
 "nbformat_minor": 5
}
